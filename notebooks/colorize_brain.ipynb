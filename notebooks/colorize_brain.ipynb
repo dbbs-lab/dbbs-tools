{
 "cells": [
  {
   "cell_type": "markdown",
   "id": "085d0675",
   "metadata": {},
   "source": [
    "# Bringing out brain regions"
   ]
  },
  {
   "cell_type": "markdown",
   "id": "00c8e9a4",
   "metadata": {},
   "source": [
    "## Description"
   ]
  },
  {
   "cell_type": "markdown",
   "id": "0620ee65",
   "metadata": {},
   "source": [
    "This tool allows you to **hightlight one or more regions of interest in the mouse brain** and visualize them in coronal, sagittal or transversal section.    \n",
    "The mouse brain reference volumes are a pair of volumetric files from the Allen Institute for Brain Science (AIBS): the Nissl and the annotations volumes. \n",
    "More specifically:   \n",
    "* the **Nissl volume** shows every cell in the brain and it is used to obtain the cell distribution\n",
    "* the **annotation volume** provides a brain region ID for each voxel of the Nissl volume and any volumetric dataset of the AIBS. \n",
    "\n",
    "The mouse brain regions are organized in a hierarchical tree and this **hierarchy** is stored in a **json file**, common to each reference atlas version (it is also available on the AIBS website). In this hierarchical tree every region is divided in subregions wich, in turn, are divided in other subregions and so on, with the leaves of the tree representing the finest subdivisions captured by the AIBS.  \n"
   ]
  },
  {
   "cell_type": "markdown",
   "id": "e3472804",
   "metadata": {},
   "source": [
    "Here are some preliminary steps: this tool needs some modules to work properly, so you need to import them first"
   ]
  },
  {
   "cell_type": "code",
   "execution_count": null,
   "id": "5d58473b",
   "metadata": {},
   "outputs": [],
   "source": [
    "import numpy as np\n",
    "from voxcell import RegionMap, VoxelData\n",
    "from os.path import join\n",
    "from matplotlib.pylab import plt\n",
    "import ipywidgets"
   ]
  },
  {
   "cell_type": "markdown",
   "id": "6c9f368a",
   "metadata": {},
   "source": [
    "\n",
    "Set below (**DATA_FOLDER**) the path to the folder containing the data, including the annotations volumes, the Nissl volumes and the json hierarchy file.\n",
    "\n",
    "Set also the folder in which the figures produced will be stored (**OUTPUT_FOLDER**).\n"
   ]
  },
  {
   "cell_type": "code",
   "execution_count": null,
   "id": "4c786456",
   "metadata": {},
   "outputs": [],
   "source": [
    "DATA_FOLDER = '../data/'\n",
    "OUTPUT_FOLDER = \"../output\""
   ]
  },
  {
   "cell_type": "markdown",
   "id": "0e43d87e",
   "metadata": {},
   "source": [
    "Now, load the following files: \n",
    "* the json file containing the hierarchy of the brain regions\n",
    "* the annotation volume file \n",
    "* the nissl volume file \n"
   ]
  },
  {
   "cell_type": "code",
   "execution_count": null,
   "id": "32ecad3c",
   "metadata": {},
   "outputs": [],
   "source": [
    "region_map = RegionMap.load_json(join(DATA_FOLDER, \"1.json\"))\n",
    "annotation = VoxelData.load_nrrd(join(DATA_FOLDER, \"bbp/annotation_25.nrrd\")).raw\n",
    "nissl = VoxelData.load_nrrd(join(DATA_FOLDER, \"bbp/ara_nissl_25.nrrd\")).raw"
   ]
  },
  {
   "cell_type": "markdown",
   "id": "4ecaea77",
   "metadata": {},
   "source": [
    "In the following section, create a function to convert a Hexadecimal color into its RGB value counterpart; you will need this later"
   ]
  },
  {
   "cell_type": "code",
   "execution_count": null,
   "id": "f42a6e63",
   "metadata": {},
   "outputs": [],
   "source": [
    "def hex_to_rgb(value):\n",
    "    \"\"\"\n",
    "    Converts a Hexadecimal color into its RGB value counterpart.\n",
    "\n",
    "    Arguments:\n",
    "        value: string hexadecimal color to convert.\n",
    "    Returns:\n",
    "        List of the Red, Green, and Blue components of the color\n",
    "    \"\"\"\n",
    "\n",
    "    value = value.lstrip('#')\n",
    "    lv = len(value)\n",
    "    return np.array([int(value[i:i + lv // 3], 16) for i in range(0, lv, lv // 3)])\n"
   ]
  },
  {
   "cell_type": "markdown",
   "id": "3894412c",
   "metadata": {},
   "source": [
    "## Parameters for the plot"
   ]
  },
  {
   "cell_type": "markdown",
   "id": "1b0c5e69",
   "metadata": {},
   "source": [
    "Here is the interesting part: you can write down one or more regions that you want to highlight!  \n",
    "\n",
    "*Be carefull*: the name of the region has to be written in the same way as it is in the json file, but it not necessarily has to be the full name "
   ]
  },
  {
   "cell_type": "code",
   "execution_count": null,
   "id": "22183ddc",
   "metadata": {},
   "outputs": [],
   "source": [
    "regions_to_highlight = [\"raphe nuclei\"]"
   ]
  },
  {
   "cell_type": "markdown",
   "id": "abd72090",
   "metadata": {},
   "source": [
    "### Filtering the regions of interest"
   ]
  },
  {
   "cell_type": "markdown",
   "id": "958c4d14",
   "metadata": {},
   "source": [
    "In the following part, the algorithm picks up the IDs of the selected regions (in *\"region_to_highlight\"*) and their descendants. "
   ]
  },
  {
   "cell_type": "code",
   "execution_count": null,
   "id": "2bfdc4fa",
   "metadata": {},
   "outputs": [],
   "source": [
    "ids_region = []\n",
    "for region_name in regions_to_highlight:\n",
    "    ids_roi=list(region_map.find(\"@.*{}.*$\".format(region_name), \n",
    "                                           attr=\"name\", with_descendants=True, \n",
    "                                           ignore_case=True))\n",
    "\n",
    "#if the name does not correspond to an existing region in the json file, an error message will be displayed \n",
    "    if len(ids_roi)==0:\n",
    "        print(\"WARNING: No region found for: {}\".format(region_name))  \n",
    "        continue\n",
    "    ids_region.append(ids_roi)\n",
    "\n",
    "if len(ids_region)==0:\n",
    "    print(\"WARNING: No region selected, please select at least one valid region\")"
   ]
  },
  {
   "cell_type": "markdown",
   "id": "4928161f",
   "metadata": {},
   "source": [
    "Now, it assigns a color for each voxel in the Annotation volume corresponding to the IDs in *region_to_highlight*"
   ]
  },
  {
   "cell_type": "code",
   "execution_count": null,
   "id": "15cb6c31",
   "metadata": {},
   "outputs": [],
   "source": [
    "colored_annotations = np.full(annotation.shape + (4,), 1.)\n",
    "colored_annotations[:,:,:,3] = 0.\n",
    "first_pos = np.zeros(3) #starting position of the slice for the figure (\"default slice\")\n",
    "max_counts = np.zeros(3) #count maximum number of voxel in slice corresponding to the regions of interest \n",
    "\n",
    "for id_reg in ids_region:\n",
    "    ann_filt = np.isin(annotation, id_reg) \n",
    "    color = hex_to_rgb(region_map.get(id_reg[0], attr=\"color_hex_triplet\")) / 255. #get the color of one of the regions of the list (the regions of interest and the subregions). \n",
    "    colored_annotations[ann_filt, :3] = color #rgb color of the region \n",
    "    colored_annotations[ann_filt, 3] = 0.5 #transparence \n",
    "\n",
    "    # the following lines ensure that the default slice (pictured in the next section) contains the maximum number of voxel of the selected regions:\n",
    "    for i, dim in enumerate(np.where(ann_filt)):\n",
    "        u, c = np.unique(dim, return_counts=True)\n",
    "        argmax_c = np.argmax(c) \n",
    "        max_c = c[argmax_c]\n",
    "        if max_c > max_counts[i]:\n",
    "            first_pos[i] = u[argmax_c]\n",
    "            max_counts[i] = max_c"
   ]
  },
  {
   "cell_type": "markdown",
   "id": "6afa0cf3",
   "metadata": {},
   "source": [
    "## Visualize brain slices"
   ]
  },
  {
   "cell_type": "markdown",
   "id": "628d53c1",
   "metadata": {},
   "source": [
    "Now you can display brain slices with the selected region highlighted!\n",
    "After running the following lines, you will see the the default *coronal slice*, containing the maximum number of voxel corrisponding to the selected regions, with these regions colored. You can choose the desired slice from 1 to 319 mooving the cursor back and forth, holding down the left mouse button until you reach it. You can choose to display:\n",
    "* **sagittal slices**: selecting 2 in the \"direction\" toolbar above the slice \n",
    "* **coronal slices**: selecting 0 in the toolbar\n",
    "* **transversal slices**: selecting 1 in the toolbar"
   ]
  },
  {
   "cell_type": "code",
   "execution_count": null,
   "id": "1d0e8ee8",
   "metadata": {},
   "outputs": [],
   "source": [
    "cmap = plt.cm.gray  # color map for Nissl\n",
    "@ipywidgets.interact\n",
    "def f_final_outer(direction=ipywidgets.Dropdown(options=[0, 1, 2])):\n",
    "    @ipywidgets.interact\n",
    "    def f_final_inner(i=ipywidgets.IntSlider(value=first_pos[direction],\n",
    "                                             min=0, max=annotation.shape[direction] - 1, \n",
    "                                             continuous_update=False)):\n",
    "        fig, ax = plt.subplots(figsize=(15, 9.1))\n",
    "        plt.suptitle('Section number: {}'.format(i))\n",
    "        if direction ==2:\n",
    "            ax.imshow(np.take(1-nissl, i, axis=direction).T, cmap=cmap, interpolation=\"nearest\")\n",
    "            ax.imshow(np.moveaxis(np.take(colored_annotations, i, axis=direction), 0, 1), interpolation=\"nearest\")\n",
    "        else:\n",
    "            ax.imshow(np.take(1-nissl, i, axis=direction), cmap=cmap, interpolation=\"nearest\")\n",
    "            ax.imshow(np.take(colored_annotations, i, axis=direction), interpolation=\"nearest\")\n",
    "        ax.axis('off')"
   ]
  },
  {
   "cell_type": "code",
   "execution_count": null,
   "id": "d75bdb51",
   "metadata": {},
   "outputs": [],
   "source": []
  }
 ],
 "metadata": {
  "kernelspec": {
   "display_name": "Python 3 (ipykernel)",
   "language": "python",
   "name": "python3"
  },
  "language_info": {
   "codemirror_mode": {
    "name": "ipython",
    "version": 3
   },
   "file_extension": ".py",
   "mimetype": "text/x-python",
   "name": "python",
   "nbconvert_exporter": "python",
   "pygments_lexer": "ipython3",
   "version": "3.8.10"
  },
  "vscode": {
   "interpreter": {
    "hash": "12b7361abc8f2b04328ecda14f13dcf320ed8efb6b3710f7b4817c2e53df4b4c"
   }
  }
 },
 "nbformat": 4,
 "nbformat_minor": 5
}
